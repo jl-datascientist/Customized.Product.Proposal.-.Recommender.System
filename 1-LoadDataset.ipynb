{
 "cells": [
  {
   "cell_type": "markdown",
   "metadata": {},
   "source": [
    "# Customized Product Proposal - Recommender System"
   ]
  },
  {
   "cell_type": "markdown",
   "metadata": {},
   "source": [
    "--------------------------------------------------------\n",
    "\n",
    "@author: jl-datascientist (Jérémy Lecourt)\n",
    "\n",
    "Objectif:\n",
    "Système avancé de recommandation de produits afin d'effectuer des propositions personnalisées selon les profils des clients.\n",
    "\n",
    "Cadre du projet:\n",
    "Application pour élaborer une proposition personnalisée de Films adaptée selon les profils des individus, en utilisant un jeux de données obtenus depuis le site Imdb.com, plus grand recueil de films/notations utilisateurs sur la toile.\n",
    "\n",
    "--------------------------------------------------------"
   ]
  },
  {
   "cell_type": "markdown",
   "metadata": {},
   "source": [
    "## Etape 1 : Chargement du jeux de données (source Imdb.com)"
   ]
  },
  {
   "cell_type": "markdown",
   "metadata": {},
   "source": [
    "Source des données : \n",
    "- https://datasets.imdbws.com\n",
    "- https://grouplens.org/datasets/movielens/20m/"
   ]
  },
  {
   "cell_type": "code",
   "execution_count": 123,
   "metadata": {},
   "outputs": [
    {
     "name": "stdout",
     "output_type": "stream",
     "text": [
      "(27278, 5)\n",
      "(1078637, 11)\n",
      "(10983, 16)\n"
     ]
    },
    {
     "data": {
      "text/html": [
       "<div>\n",
       "<style scoped>\n",
       "    .dataframe tbody tr th:only-of-type {\n",
       "        vertical-align: middle;\n",
       "    }\n",
       "\n",
       "    .dataframe tbody tr th {\n",
       "        vertical-align: top;\n",
       "    }\n",
       "\n",
       "    .dataframe thead th {\n",
       "        text-align: right;\n",
       "    }\n",
       "</style>\n",
       "<table border=\"1\" class=\"dataframe\">\n",
       "  <thead>\n",
       "    <tr style=\"text-align: right;\">\n",
       "      <th></th>\n",
       "      <th>movieId</th>\n",
       "      <th>title</th>\n",
       "      <th>genres_x</th>\n",
       "      <th>imdbId</th>\n",
       "      <th>tmdbId</th>\n",
       "      <th>tconst</th>\n",
       "      <th>averageRating</th>\n",
       "      <th>numVotes</th>\n",
       "      <th>titleType</th>\n",
       "      <th>primaryTitle</th>\n",
       "      <th>originalTitle</th>\n",
       "      <th>isAdult</th>\n",
       "      <th>startYear</th>\n",
       "      <th>endYear</th>\n",
       "      <th>runtimeMinutes</th>\n",
       "      <th>genres_y</th>\n",
       "    </tr>\n",
       "  </thead>\n",
       "  <tbody>\n",
       "    <tr>\n",
       "      <th>0</th>\n",
       "      <td>1</td>\n",
       "      <td>Toy Story (1995)</td>\n",
       "      <td>Adventure|Animation|Children|Comedy|Fantasy</td>\n",
       "      <td>tt0114709</td>\n",
       "      <td>862.0</td>\n",
       "      <td>tt0114709</td>\n",
       "      <td>8.3</td>\n",
       "      <td>867989</td>\n",
       "      <td>movie</td>\n",
       "      <td>Toy Story</td>\n",
       "      <td>Toy Story</td>\n",
       "      <td>0</td>\n",
       "      <td>1995</td>\n",
       "      <td>\\N</td>\n",
       "      <td>81</td>\n",
       "      <td>Adventure,Animation,Comedy</td>\n",
       "    </tr>\n",
       "  </tbody>\n",
       "</table>\n",
       "</div>"
      ],
      "text/plain": [
       "   movieId             title                                     genres_x  \\\n",
       "0        1  Toy Story (1995)  Adventure|Animation|Children|Comedy|Fantasy   \n",
       "\n",
       "      imdbId  tmdbId     tconst  averageRating  numVotes titleType  \\\n",
       "0  tt0114709   862.0  tt0114709            8.3    867989     movie   \n",
       "\n",
       "  primaryTitle originalTitle  isAdult startYear endYear runtimeMinutes  \\\n",
       "0    Toy Story     Toy Story        0      1995      \\N             81   \n",
       "\n",
       "                     genres_y  \n",
       "0  Adventure,Animation,Comedy  "
      ]
     },
     "execution_count": 123,
     "metadata": {},
     "output_type": "execute_result"
    }
   ],
   "source": [
    "import numpy as np\n",
    "import pandas as pd\n",
    "\n",
    "from sklearn import model_selection, preprocessing\n",
    "\n",
    "from sklearn.model_selection import cross_val_predict, cross_val_score, cross_validate, train_test_split\n",
    "from sklearn.linear_model import LinearRegression, LassoCV, RidgeCV\n",
    "from sklearn.metrics import mean_squared_error\n",
    "\n",
    "import matplotlib.pyplot as plt\n",
    "import seaborn as sns\n",
    "\n",
    "# 1-Collect data from Imdb.com\n",
    "# 1.1-Collect movies data (table 1 : data_m)\n",
    "\n",
    "#       Collect from first dataset\n",
    "df_m = pd.read_csv(\"movies.csv\")\n",
    "df_l = pd.read_csv(\"links.csv\")\n",
    "data_m1 = pd.merge(df_m, df_l, how = 'inner')\n",
    "print(data_m1.shape)\n",
    "\n",
    "#       Collect from second dataset\n",
    "df_b = pd.read_csv('basics.tsv', sep=\"\\t\")\n",
    "df_a = pd.read_csv('ratings.tsv', sep=\"\\t\")\n",
    "data_m2 = pd.merge(df_a, df_b, how = 'inner')\n",
    "print(data_m2.shape)\n",
    "\n",
    "#       Merging the 2 datasets via imdbId\n",
    "data_m1['imdbId'] = data_m1['imdbId'].apply(str).apply(lambda x : 'tt0' + x )\n",
    "\n",
    "data_m = data_m1.merge(data_m2, left_on = \"imdbId\", right_on = \"tconst\")\n",
    "print(data_m.shape)\n",
    "\n",
    "data_m[(data_m['tconst']=='tt0114709')].head()\n"
   ]
  },
  {
   "cell_type": "code",
   "execution_count": 124,
   "metadata": {},
   "outputs": [
    {
     "name": "stdout",
     "output_type": "stream",
     "text": [
      "(9607, 8)\n",
      "<class 'pandas.core.frame.DataFrame'>\n",
      "Int64Index: 9607 entries, 0 to 10982\n",
      "Data columns (total 8 columns):\n",
      " #   Column          Non-Null Count  Dtype  \n",
      "---  ------          --------------  -----  \n",
      " 0   movieId         9607 non-null   int64  \n",
      " 1   imdbId          9607 non-null   object \n",
      " 2   averageRating   9607 non-null   float64\n",
      " 3   numVotes        9607 non-null   int64  \n",
      " 4   originalTitle   9607 non-null   object \n",
      " 5   startYear       9607 non-null   int32  \n",
      " 6   runtimeMinutes  9607 non-null   int32  \n",
      " 7   genres_y        9607 non-null   object \n",
      "dtypes: float64(1), int32(2), int64(2), object(3)\n",
      "memory usage: 600.4+ KB\n"
     ]
    }
   ],
   "source": [
    "#      Data filtering, cleaning & reformating\n",
    "\n",
    "data_m = data_m[(data_m['titleType']=='movie') & (data_m['isAdult']!=1)]\n",
    "\n",
    "to_drop_col = ['title', 'genres_x', 'tmdbId','tconst', 'titleType','primaryTitle','isAdult','endYear']\n",
    "data_m = data_m.drop(to_drop_col,axis=1)\n",
    "\n",
    "#data_m['runtimeMinutes'].value_counts()\n",
    "#data_m[data_m['runtimeMinutes'].str.contains('N')==True].head(20)\n",
    "to_drop_row = data_m[data_m['runtimeMinutes'].str.contains('N')==True].index\n",
    "data_m = data_m.drop(to_drop_row)\n",
    "\n",
    "data_m['runtimeMinutes'] = data_m['runtimeMinutes'].astype(int)\n",
    "data_m['startYear'] = data_m['startYear'].astype(int)\n",
    "\n",
    "print(data_m.shape)\n",
    "data_m.info()"
   ]
  },
  {
   "cell_type": "code",
   "execution_count": 125,
   "metadata": {},
   "outputs": [
    {
     "data": {
      "image/png": "[encoded data removed]",
      "text/plain": [
       "<Figure size 432x432 with 2 Axes>"
      ]
     },
     "metadata": {
      "needs_background": "light"
     },
     "output_type": "display_data"
    }
   ],
   "source": [
    "#      Pre-visualisation / dependencies table 1\n",
    "to_drop_colviz1 = ['movieId']\n",
    "viz_init1 = data_m.drop(to_drop_colviz1,axis=1)\n",
    "\n",
    "plt.figure(figsize=(6,6))\n",
    "sns.heatmap(viz_init1.corr(),  annot=True, cmap=\"RdBu_r\", center =0);"
   ]
  },
  {
   "cell_type": "code",
   "execution_count": 126,
   "metadata": {},
   "outputs": [
    {
     "name": "stdout",
     "output_type": "stream",
     "text": [
      "(9607, 4) (20000263, 4)\n",
      "(13154979, 7)\n",
      "Nb Ratings null : 0\n",
      "<class 'pandas.core.frame.DataFrame'>\n",
      "Int64Index: 13154979 entries, 0 to 13154978\n",
      "Data columns (total 8 columns):\n",
      " #   Column         Dtype         \n",
      "---  ------         -----         \n",
      " 0   movieId        int64         \n",
      " 1   originalTitle  object        \n",
      " 2   averageRating  float64       \n",
      " 3   numVotes       int64         \n",
      " 4   userId         int64         \n",
      " 5   rating         float64       \n",
      " 6   timestamp      int64         \n",
      " 7   date_rating    datetime64[ns]\n",
      "dtypes: datetime64[ns](1), float64(2), int64(4), object(1)\n",
      "memory usage: 903.3+ MB\n"
     ]
    }
   ],
   "source": [
    "# 1.2-Collect ratings data (table 2 : data_r)\n",
    "\n",
    "#      Get main data from previous table(data_m)\n",
    "data_r = data_m[['movieId','originalTitle','averageRating','numVotes']]\n",
    "\n",
    "#      Collect ratings data and merge to get table 2(data_r)\n",
    "df_r = pd.read_csv(\"ratings.csv\")\n",
    "print(data_r.shape,df_r.shape)\n",
    "data_r = data_r.merge(df_r)\n",
    "print(data_r.shape)\n",
    "\n",
    "#      Data cleaning & reformating\n",
    "data_r['date_rating'] = pd.to_datetime(data_r['timestamp'], unit='s')\n",
    "\n",
    "print('Nb Ratings null :',data_r[(data_r['rating'].isnull()==True)].count()[0])\n",
    "\n",
    "data_r.info()"
   ]
  },
  {
   "cell_type": "code",
   "execution_count": 128,
   "metadata": {},
   "outputs": [
    {
     "name": "stdout",
     "output_type": "stream",
     "text": [
      "(13154979, 9)\n",
      "(12846578, 9)\n"
     ]
    }
   ],
   "source": [
    "#      Data filtering (data_r : avoid very sparse ratings dataset for recommender system)\n",
    "\n",
    "rates_f0 = data_r.copy()\n",
    "\n",
    "# -> Filter to have sufficient number of Votes per userId\n",
    "\n",
    "Filter_User = rates_f0.groupby('userId')['movieId'].count().reset_index()\n",
    "Filter_User.columns = ['userId', 'nbMovie']\n",
    "\n",
    "rates_f0 = rates_f0.merge(Filter_User)\n",
    "print(rates_f0.shape)\n",
    "\n",
    "rates_f1 = rates_f0[rates_f0['nbMovie']>=20]\n",
    "print(rates_f1.shape)"
   ]
  },
  {
   "cell_type": "code",
   "execution_count": 129,
   "metadata": {},
   "outputs": [
    {
     "name": "stdout",
     "output_type": "stream",
     "text": [
      "(12846578, 10)\n",
      "(12828042, 10)\n"
     ]
    }
   ],
   "source": [
    "# -> Filter to have sufficient number of Votes per MovieId\n",
    "\n",
    "Filter_Movie = rates_f1.groupby('movieId')['userId'].count().reset_index()\n",
    "Filter_Movie.columns = ['movieId', 'nbUser']\n",
    "\n",
    "rates_f1 = rates_f1.merge(Filter_Movie)\n",
    "print(rates_f1.shape)\n",
    "\n",
    "rates_f2 = rates_f1[rates_f1['nbUser']>=20]\n",
    "print(rates_f2.shape)"
   ]
  },
  {
   "cell_type": "code",
   "execution_count": 130,
   "metadata": {},
   "outputs": [
    {
     "data": {
      "text/plain": [
       "(12828042, 8)"
      ]
     },
     "execution_count": 130,
     "metadata": {},
     "output_type": "execute_result"
    }
   ],
   "source": [
    "# -> Drop filter columns\n",
    "data_r = rates_f2.iloc[:,:8]\n",
    "data_r.shape"
   ]
  },
  {
   "cell_type": "code",
   "execution_count": 131,
   "metadata": {},
   "outputs": [
    {
     "data": {
      "image/png": "[encoded data removed]",
      "text/plain": [
       "<Figure size 432x432 with 2 Axes>"
      ]
     },
     "metadata": {
      "needs_background": "light"
     },
     "output_type": "display_data"
    }
   ],
   "source": [
    "#      Pre-visualisation / dependencies table 2\n",
    "to_drop_colviz2 = ['movieId','userId','numVotes']\n",
    "#to_drop_colviz2 = ['movieId','userId']\n",
    "viz_init2 = data_r.drop(to_drop_colviz2,axis=1)\n",
    "\n",
    "plt.figure(figsize=(6,6))\n",
    "sns.heatmap(viz_init2.corr(),  annot=True, cmap=\"RdBu_r\", center =0);"
   ]
  },
  {
   "cell_type": "code",
   "execution_count": 132,
   "metadata": {},
   "outputs": [],
   "source": [
    "# SAVE TABLE 1 & 2 FOR NEXT STEPS\n",
    "data_m.to_csv(r'Save\\data_m.csv', index = False)\n",
    "data_r.to_csv(r'Save\\data_r.csv', index = False)"
   ]
  },
  {
   "cell_type": "code",
   "execution_count": null,
   "metadata": {},
   "outputs": [],
   "source": []
  }
 ],
 "metadata": {
  "celltoolbar": "Format de la Cellule Texte Brut",
  "kernelspec": {
   "display_name": "Python 3",
   "language": "python",
   "name": "python3"
  },
  "language_info": {
   "codemirror_mode": {
    "name": "ipython",
    "version": 3
   },
   "file_extension": ".py",
   "mimetype": "text/x-python",
   "name": "python",
   "nbconvert_exporter": "python",
   "pygments_lexer": "ipython3",
   "version": "3.8.3"
  }
 },
 "nbformat": 4,
 "nbformat_minor": 4
}
